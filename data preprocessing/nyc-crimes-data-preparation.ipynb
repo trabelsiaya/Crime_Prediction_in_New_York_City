{
 "cells": [
  {
   "cell_type": "code",
   "execution_count": 1,
   "metadata": {
    "execution": {
     "iopub.execute_input": "2023-12-26T21:06:52.055501Z",
     "iopub.status.busy": "2023-12-26T21:06:52.055219Z",
     "iopub.status.idle": "2023-12-26T21:06:57.420554Z",
     "shell.execute_reply": "2023-12-26T21:06:57.419656Z",
     "shell.execute_reply.started": "2023-12-26T21:06:52.055474Z"
    },
    "trusted": true
   },
   "outputs": [
    {
     "name": "stderr",
     "output_type": "stream",
     "text": [
      "c:\\Users\\MSI\\Desktop\\NYC\\venv\\Lib\\site-packages\\tqdm\\auto.py:21: TqdmWarning: IProgress not found. Please update jupyter and ipywidgets. See https://ipywidgets.readthedocs.io/en/stable/user_install.html\n",
      "  from .autonotebook import tqdm as notebook_tqdm\n"
     ]
    }
   ],
   "source": [
    "\n",
    "import numpy as np \n",
    "import pandas as pd \n",
    "import seaborn as sns\n",
    "import matplotlib.pyplot as plt\n",
    "import joblib\n",
    "\n",
    "from sklearn.metrics import log_loss\n",
    "from sklearn.metrics import classification_report\n",
    "from sklearn.metrics import confusion_matrix\n",
    "from sklearn.metrics import accuracy_score\n",
    "from sklearn.metrics import roc_curve, auc\n",
    "from sklearn.model_selection import train_test_split\n",
    "from sklearn.metrics import mean_squared_error\n",
    "from sklearn.preprocessing import LabelEncoder\n",
    "\n",
    "import os\n",
    "import optuna\n",
    "\n",
    "#models \n",
    "import xgboost as xgb\n",
    "import lightgbm as lgb\n",
    "\n",
    "from xgboost import plot_importance\n"
   ]
  },
  {
   "cell_type": "code",
   "execution_count": 2,
   "metadata": {
    "execution": {
     "iopub.execute_input": "2023-12-26T21:06:57.422521Z",
     "iopub.status.busy": "2023-12-26T21:06:57.422201Z",
     "iopub.status.idle": "2023-12-26T21:07:40.424573Z",
     "shell.execute_reply": "2023-12-26T21:07:40.423434Z",
     "shell.execute_reply.started": "2023-12-26T21:06:57.422495Z"
    },
    "trusted": true
   },
   "outputs": [
    {
     "name": "stderr",
     "output_type": "stream",
     "text": [
      "C:\\Users\\MSI\\AppData\\Local\\Temp\\ipykernel_2832\\2355859285.py:1: DtypeWarning: Columns (0) have mixed types. Specify dtype option on import or set low_memory=False.\n",
      "  data=pd.read_csv('final_data.csv')\n"
     ]
    }
   ],
   "source": [
    "data=pd.read_csv('final_data.csv')"
   ]
  },
  {
   "cell_type": "code",
   "execution_count": 3,
   "metadata": {
    "execution": {
     "iopub.execute_input": "2023-12-26T21:07:40.426409Z",
     "iopub.status.busy": "2023-12-26T21:07:40.426025Z",
     "iopub.status.idle": "2023-12-26T21:07:40.464249Z",
     "shell.execute_reply": "2023-12-26T21:07:40.463228Z",
     "shell.execute_reply.started": "2023-12-26T21:07:40.426375Z"
    },
    "trusted": true
   },
   "outputs": [
    {
     "data": {
      "text/html": [
       "<div>\n",
       "<style scoped>\n",
       "    .dataframe tbody tr th:only-of-type {\n",
       "        vertical-align: middle;\n",
       "    }\n",
       "\n",
       "    .dataframe tbody tr th {\n",
       "        vertical-align: top;\n",
       "    }\n",
       "\n",
       "    .dataframe thead th {\n",
       "        text-align: right;\n",
       "    }\n",
       "</style>\n",
       "<table border=\"1\" class=\"dataframe\">\n",
       "  <thead>\n",
       "    <tr style=\"text-align: right;\">\n",
       "      <th></th>\n",
       "      <th>CMPLNT_NUM</th>\n",
       "      <th>year</th>\n",
       "      <th>month</th>\n",
       "      <th>day</th>\n",
       "      <th>weekday</th>\n",
       "      <th>hour</th>\n",
       "      <th>Latitude</th>\n",
       "      <th>Longitude</th>\n",
       "      <th>COMPLETED</th>\n",
       "      <th>OFNS_DESC</th>\n",
       "      <th>...</th>\n",
       "      <th>JURISDICTION_CODE</th>\n",
       "      <th>IN_PARK</th>\n",
       "      <th>IN_PUBLIC_HOUSING</th>\n",
       "      <th>IN_STATION</th>\n",
       "      <th>SUSP_AGE_GROUP</th>\n",
       "      <th>SUSP_RACE</th>\n",
       "      <th>SUSP_SEX</th>\n",
       "      <th>VIC_AGE_GROUP</th>\n",
       "      <th>VIC_RACE</th>\n",
       "      <th>VIC_SEX</th>\n",
       "    </tr>\n",
       "  </thead>\n",
       "  <tbody>\n",
       "    <tr>\n",
       "      <th>0</th>\n",
       "      <td>25636218</td>\n",
       "      <td>2006</td>\n",
       "      <td>12</td>\n",
       "      <td>5</td>\n",
       "      <td>Tuesday</td>\n",
       "      <td>11</td>\n",
       "      <td>40.75</td>\n",
       "      <td>-74.00</td>\n",
       "      <td>COMPLETED</td>\n",
       "      <td>PROPERTY</td>\n",
       "      <td>...</td>\n",
       "      <td>0</td>\n",
       "      <td>1</td>\n",
       "      <td>1</td>\n",
       "      <td>1</td>\n",
       "      <td>UNKNOWN</td>\n",
       "      <td>WHITE</td>\n",
       "      <td>M</td>\n",
       "      <td>UNKNOWN</td>\n",
       "      <td>UNKNOWN</td>\n",
       "      <td>D</td>\n",
       "    </tr>\n",
       "    <tr>\n",
       "      <th>1</th>\n",
       "      <td>23364313</td>\n",
       "      <td>2006</td>\n",
       "      <td>7</td>\n",
       "      <td>12</td>\n",
       "      <td>Wednesday</td>\n",
       "      <td>14</td>\n",
       "      <td>40.70</td>\n",
       "      <td>-73.94</td>\n",
       "      <td>COMPLETED</td>\n",
       "      <td>PROPERTY</td>\n",
       "      <td>...</td>\n",
       "      <td>97</td>\n",
       "      <td>1</td>\n",
       "      <td>1</td>\n",
       "      <td>1</td>\n",
       "      <td>UNKNOWN</td>\n",
       "      <td>(null)</td>\n",
       "      <td>(null)</td>\n",
       "      <td>45-64</td>\n",
       "      <td>BLACK</td>\n",
       "      <td>M</td>\n",
       "    </tr>\n",
       "    <tr>\n",
       "      <th>2</th>\n",
       "      <td>25523851</td>\n",
       "      <td>2006</td>\n",
       "      <td>11</td>\n",
       "      <td>26</td>\n",
       "      <td>Sunday</td>\n",
       "      <td>16</td>\n",
       "      <td>40.70</td>\n",
       "      <td>-73.94</td>\n",
       "      <td>COMPLETED</td>\n",
       "      <td>PROPERTY</td>\n",
       "      <td>...</td>\n",
       "      <td>97</td>\n",
       "      <td>1</td>\n",
       "      <td>1</td>\n",
       "      <td>1</td>\n",
       "      <td>UNKNOWN</td>\n",
       "      <td>(null)</td>\n",
       "      <td>(null)</td>\n",
       "      <td>18-24</td>\n",
       "      <td>BLACK</td>\n",
       "      <td>F</td>\n",
       "    </tr>\n",
       "    <tr>\n",
       "      <th>3</th>\n",
       "      <td>25435616</td>\n",
       "      <td>2006</td>\n",
       "      <td>11</td>\n",
       "      <td>21</td>\n",
       "      <td>Tuesday</td>\n",
       "      <td>2</td>\n",
       "      <td>40.84</td>\n",
       "      <td>-73.80</td>\n",
       "      <td>ATTEMPTED</td>\n",
       "      <td>PROPERTY</td>\n",
       "      <td>...</td>\n",
       "      <td>0</td>\n",
       "      <td>1</td>\n",
       "      <td>1</td>\n",
       "      <td>1</td>\n",
       "      <td>UNKNOWN</td>\n",
       "      <td>BLACK</td>\n",
       "      <td>M</td>\n",
       "      <td>65+</td>\n",
       "      <td>WHITE</td>\n",
       "      <td>M</td>\n",
       "    </tr>\n",
       "    <tr>\n",
       "      <th>4</th>\n",
       "      <td>34143267</td>\n",
       "      <td>2007</td>\n",
       "      <td>9</td>\n",
       "      <td>1</td>\n",
       "      <td>Saturday</td>\n",
       "      <td>9</td>\n",
       "      <td>40.72</td>\n",
       "      <td>-74.00</td>\n",
       "      <td>COMPLETED</td>\n",
       "      <td>PROPERTY</td>\n",
       "      <td>...</td>\n",
       "      <td>0</td>\n",
       "      <td>1</td>\n",
       "      <td>1</td>\n",
       "      <td>1</td>\n",
       "      <td>UNKNOWN</td>\n",
       "      <td>BLACK</td>\n",
       "      <td>M</td>\n",
       "      <td>UNKNOWN</td>\n",
       "      <td>UNKNOWN</td>\n",
       "      <td>D</td>\n",
       "    </tr>\n",
       "  </tbody>\n",
       "</table>\n",
       "<p>5 rows × 26 columns</p>\n",
       "</div>"
      ],
      "text/plain": [
       "  CMPLNT_NUM  year  month  day    weekday  hour  Latitude  Longitude  \\\n",
       "0   25636218  2006     12    5    Tuesday    11     40.75     -74.00   \n",
       "1   23364313  2006      7   12  Wednesday    14     40.70     -73.94   \n",
       "2   25523851  2006     11   26     Sunday    16     40.70     -73.94   \n",
       "3   25435616  2006     11   21    Tuesday     2     40.84     -73.80   \n",
       "4   34143267  2007      9    1   Saturday     9     40.72     -74.00   \n",
       "\n",
       "   COMPLETED OFNS_DESC  ...  JURISDICTION_CODE IN_PARK IN_PUBLIC_HOUSING  \\\n",
       "0  COMPLETED  PROPERTY  ...                  0       1                 1   \n",
       "1  COMPLETED  PROPERTY  ...                 97       1                 1   \n",
       "2  COMPLETED  PROPERTY  ...                 97       1                 1   \n",
       "3  ATTEMPTED  PROPERTY  ...                  0       1                 1   \n",
       "4  COMPLETED  PROPERTY  ...                  0       1                 1   \n",
       "\n",
       "  IN_STATION SUSP_AGE_GROUP SUSP_RACE  SUSP_SEX  VIC_AGE_GROUP  VIC_RACE  \\\n",
       "0          1        UNKNOWN     WHITE         M        UNKNOWN   UNKNOWN   \n",
       "1          1        UNKNOWN    (null)    (null)          45-64     BLACK   \n",
       "2          1        UNKNOWN    (null)    (null)          18-24     BLACK   \n",
       "3          1        UNKNOWN     BLACK         M            65+     WHITE   \n",
       "4          1        UNKNOWN     BLACK         M        UNKNOWN   UNKNOWN   \n",
       "\n",
       "   VIC_SEX  \n",
       "0        D  \n",
       "1        M  \n",
       "2        F  \n",
       "3        M  \n",
       "4        D  \n",
       "\n",
       "[5 rows x 26 columns]"
      ]
     },
     "execution_count": 3,
     "metadata": {},
     "output_type": "execute_result"
    }
   ],
   "source": [
    "data.head()"
   ]
  },
  {
   "cell_type": "code",
   "execution_count": 4,
   "metadata": {
    "execution": {
     "iopub.execute_input": "2023-12-26T21:07:40.466984Z",
     "iopub.status.busy": "2023-12-26T21:07:40.466620Z",
     "iopub.status.idle": "2023-12-26T21:07:40.475008Z",
     "shell.execute_reply": "2023-12-26T21:07:40.473909Z",
     "shell.execute_reply.started": "2023-12-26T21:07:40.466955Z"
    },
    "trusted": true
   },
   "outputs": [
    {
     "data": {
      "text/plain": [
       "Index(['CMPLNT_NUM', 'year', 'month', 'day', 'weekday', 'hour', 'Latitude',\n",
       "       'Longitude', 'COMPLETED', 'OFNS_DESC', 'ADDR_PCT_CD', 'CRIME_CLASS',\n",
       "       'BORO_NM', 'PREM_TYP_DESC', 'OCCURENCE', 'JURIS_DESC',\n",
       "       'JURISDICTION_CODE', 'IN_PARK', 'IN_PUBLIC_HOUSING', 'IN_STATION',\n",
       "       'SUSP_AGE_GROUP', 'SUSP_RACE', 'SUSP_SEX', 'VIC_AGE_GROUP', 'VIC_RACE',\n",
       "       'VIC_SEX'],\n",
       "      dtype='object')"
      ]
     },
     "execution_count": 4,
     "metadata": {},
     "output_type": "execute_result"
    }
   ],
   "source": [
    "data.columns"
   ]
  },
  {
   "cell_type": "code",
   "execution_count": 5,
   "metadata": {
    "execution": {
     "iopub.execute_input": "2023-12-26T21:07:40.476512Z",
     "iopub.status.busy": "2023-12-26T21:07:40.476193Z",
     "iopub.status.idle": "2023-12-26T21:07:40.486302Z",
     "shell.execute_reply": "2023-12-26T21:07:40.485219Z",
     "shell.execute_reply.started": "2023-12-26T21:07:40.476485Z"
    },
    "trusted": true
   },
   "outputs": [
    {
     "name": "stdout",
     "output_type": "stream",
     "text": [
      "CMPLNT_NUM                   25636218\n",
      "year                             2006\n",
      "month                              12\n",
      "day                                 5\n",
      "weekday                       Tuesday\n",
      "hour                               11\n",
      "Latitude                        40.75\n",
      "Longitude                       -74.0\n",
      "COMPLETED                   COMPLETED\n",
      "OFNS_DESC                    PROPERTY\n",
      "ADDR_PCT_CD                      13.0\n",
      "CRIME_CLASS                    FELONY\n",
      "BORO_NM                     MANHATTAN\n",
      "PREM_TYP_DESC                    BANK\n",
      "OCCURENCE                      INSIDE\n",
      "JURIS_DESC           N.Y. POLICE DEPT\n",
      "JURISDICTION_CODE                   0\n",
      "IN_PARK                             1\n",
      "IN_PUBLIC_HOUSING                   1\n",
      "IN_STATION                          1\n",
      "SUSP_AGE_GROUP                UNKNOWN\n",
      "SUSP_RACE                       WHITE\n",
      "SUSP_SEX                            M\n",
      "VIC_AGE_GROUP                 UNKNOWN\n",
      "VIC_RACE                      UNKNOWN\n",
      "VIC_SEX                             D\n",
      "Name: 0, dtype: object\n"
     ]
    }
   ],
   "source": [
    "#example from the dataset\n",
    "print(data.iloc[0])"
   ]
  },
  {
   "cell_type": "code",
   "execution_count": 9,
   "metadata": {},
   "outputs": [
    {
     "name": "stdout",
     "output_type": "stream",
     "text": [
      "Statistiques descriptives pour ADDR_PCT_CD:\n",
      "count    8.913192e+06\n",
      "mean     6.336830e+01\n",
      "std      3.459529e+01\n",
      "min      1.000000e+00\n",
      "25%      4.000000e+01\n",
      "50%      6.300000e+01\n",
      "75%      9.400000e+01\n",
      "max      1.230000e+02\n",
      "Name: ADDR_PCT_CD, dtype: float64\n"
     ]
    },
    {
     "data": {
      "image/png": "[encoded data removed]",
      "text/plain": [
       "<Figure size 1500x600 with 2 Axes>"
      ]
     },
     "metadata": {},
     "output_type": "display_data"
    },
    {
     "name": "stdout",
     "output_type": "stream",
     "text": [
      "\n",
      "Distribution des valeurs (top 10):\n"
     ]
    },
    {
     "ename": "NameError",
     "evalue": "name 'df' is not defined",
     "output_type": "error",
     "traceback": [
      "\u001b[1;31m---------------------------------------------------------------------------\u001b[0m",
      "\u001b[1;31mNameError\u001b[0m                                 Traceback (most recent call last)",
      "Cell \u001b[1;32mIn[9], line 31\u001b[0m\n\u001b[0;32m     29\u001b[0m \u001b[38;5;66;03m# Afficher les fréquences des valeurs\u001b[39;00m\n\u001b[0;32m     30\u001b[0m \u001b[38;5;28mprint\u001b[39m(\u001b[38;5;124m\"\u001b[39m\u001b[38;5;130;01m\\n\u001b[39;00m\u001b[38;5;124mDistribution des valeurs (top 10):\u001b[39m\u001b[38;5;124m\"\u001b[39m)\n\u001b[1;32m---> 31\u001b[0m \u001b[38;5;28mprint\u001b[39m(\u001b[43mdf\u001b[49m[\u001b[38;5;124m'\u001b[39m\u001b[38;5;124mADDR_PCT_CD\u001b[39m\u001b[38;5;124m'\u001b[39m]\u001b[38;5;241m.\u001b[39mvalue_counts()\u001b[38;5;241m.\u001b[39msort_index()\u001b[38;5;241m.\u001b[39mhead(\u001b[38;5;241m10\u001b[39m))\n\u001b[0;32m     33\u001b[0m \u001b[38;5;66;03m# Afficher le pourcentage de valeurs manquantes s'il y en a\u001b[39;00m\n\u001b[0;32m     34\u001b[0m missing \u001b[38;5;241m=\u001b[39m (df[\u001b[38;5;124m'\u001b[39m\u001b[38;5;124mADDR_PCT_CD\u001b[39m\u001b[38;5;124m'\u001b[39m]\u001b[38;5;241m.\u001b[39misnull()\u001b[38;5;241m.\u001b[39msum() \u001b[38;5;241m/\u001b[39m \u001b[38;5;28mlen\u001b[39m(df)) \u001b[38;5;241m*\u001b[39m \u001b[38;5;241m100\u001b[39m\n",
      "\u001b[1;31mNameError\u001b[0m: name 'df' is not defined"
     ]
    }
   ],
   "source": [
    "# Imports nécessaires\n",
    "import pandas as pd\n",
    "import matplotlib.pyplot as plt\n",
    "import seaborn as sns\n",
    "\n",
    "# Statistiques descriptives\n",
    "print(\"Statistiques descriptives pour ADDR_PCT_CD:\")\n",
    "print(data['ADDR_PCT_CD'].describe())\n",
    "\n",
    "# Créer une figure avec deux sous-graphiques\n",
    "plt.figure(figsize=(15, 6))\n",
    "\n",
    "# Premier sous-graphique : Histogramme\n",
    "plt.subplot(1, 2, 1)\n",
    "sns.histplot(data=data, x='ADDR_PCT_CD', bins=30)\n",
    "plt.title('Distribution des codes de secteur (ADDR_PCT_CD)')\n",
    "plt.xlabel('Code de secteur')\n",
    "plt.ylabel('Nombre d\\'occurrences')\n",
    "\n",
    "# Deuxième sous-graphique : Box plot\n",
    "plt.subplot(1, 2, 2)\n",
    "sns.boxplot(y=data['ADDR_PCT_CD'])\n",
    "plt.title('Box Plot des codes de secteur')\n",
    "plt.ylabel('Code de secteur')\n",
    "\n",
    "plt.tight_layout()\n",
    "plt.show()\n",
    "\n",
    "# Afficher les fréquences des valeurs\n",
    "print(\"\\nDistribution des valeurs (top 10):\")\n",
    "print(df['ADDR_PCT_CD'].value_counts().sort_index().head(10))\n",
    "\n",
    "# Afficher le pourcentage de valeurs manquantes s'il y en a\n",
    "missing = (df['ADDR_PCT_CD'].isnull().sum() / len(df)) * 100\n",
    "print(f\"\\nPourcentage de valeurs manquantes : {missing:.2f}%\")"
   ]
  },
  {
   "cell_type": "code",
   "execution_count": 7,
   "metadata": {
    "execution": {
     "iopub.execute_input": "2023-12-26T21:07:40.489198Z",
     "iopub.status.busy": "2023-12-26T21:07:40.488410Z",
     "iopub.status.idle": "2023-12-26T21:07:41.179036Z",
     "shell.execute_reply": "2023-12-26T21:07:41.177995Z",
     "shell.execute_reply.started": "2023-12-26T21:07:40.489161Z"
    },
    "trusted": true
   },
   "outputs": [
    {
     "data": {
      "text/plain": [
       "array(['PROPERTY', 'SEXUAL', 'PERSONAL', 'DRUGS/ALCOHOL', 'OTHER',\n",
       "       'ADMINISTRATIVE'], dtype=object)"
      ]
     },
     "execution_count": 7,
     "metadata": {},
     "output_type": "execute_result"
    }
   ],
   "source": [
    "data.OFNS_DESC.unique()"
   ]
  },
  {
   "cell_type": "code",
   "execution_count": 8,
   "metadata": {
    "execution": {
     "iopub.execute_input": "2023-12-26T21:07:41.181984Z",
     "iopub.status.busy": "2023-12-26T21:07:41.180415Z",
     "iopub.status.idle": "2023-12-26T21:07:43.613631Z",
     "shell.execute_reply": "2023-12-26T21:07:43.612724Z",
     "shell.execute_reply.started": "2023-12-26T21:07:41.181952Z"
    },
    "trusted": true
   },
   "outputs": [
    {
     "data": {
      "text/plain": [
       "array(['PROPERTY', 'SEXUAL', 'PERSONAL', 'DRUGS/ALCOHOL'], dtype=object)"
      ]
     },
     "execution_count": 8,
     "metadata": {},
     "output_type": "execute_result"
    }
   ],
   "source": [
    "filtered_df = data[~data['OFNS_DESC'].isin(['ADMINISTRATIVE', 'OTHER'])]\n",
    "data=filtered_df\n",
    "data.OFNS_DESC.unique()"
   ]
  },
  {
   "cell_type": "code",
   "execution_count": 9,
   "metadata": {
    "execution": {
     "iopub.execute_input": "2023-12-26T21:07:43.615873Z",
     "iopub.status.busy": "2023-12-26T21:07:43.615443Z",
     "iopub.status.idle": "2023-12-26T21:07:46.183254Z",
     "shell.execute_reply": "2023-12-26T21:07:46.182249Z",
     "shell.execute_reply.started": "2023-12-26T21:07:43.615837Z"
    },
    "trusted": true
   },
   "outputs": [
    {
     "name": "stdout",
     "output_type": "stream",
     "text": [
      "{'original_to_encoded': {'PROPERTY': 2, 'SEXUAL': 3, 'PERSONAL': 1, 'DRUGS/ALCOHOL': 0}, 'encoded_to_original': {2: 'PROPERTY', 3: 'SEXUAL', 1: 'PERSONAL', 0: 'DRUGS/ALCOHOL'}}\n"
     ]
    }
   ],
   "source": [
    "# Create a dictionary to store the mapping\n",
    "label_mapping = {}\n",
    "\n",
    "# Original column values\n",
    "original_values = data['OFNS_DESC'].unique()\n",
    "label_encoder=LabelEncoder()\n",
    "# Apply label encoding\n",
    "data['target'] = label_encoder.fit_transform(data['OFNS_DESC'])\n",
    "\n",
    "# New column values after label encoding\n",
    "new_values = data['target'].unique()\n",
    "\n",
    "# Populate the dictionary\n",
    "label_mapping['original_to_encoded'] = dict(zip(original_values, new_values))\n",
    "label_mapping['encoded_to_original'] = dict(zip(new_values, original_values))\n",
    "\n",
    "# Print the dictionary\n",
    "print(label_mapping)\n"
   ]
  },
  {
   "cell_type": "code",
   "execution_count": 10,
   "metadata": {
    "execution": {
     "iopub.execute_input": "2023-12-26T21:07:46.184862Z",
     "iopub.status.busy": "2023-12-26T21:07:46.184538Z",
     "iopub.status.idle": "2023-12-26T21:07:46.191295Z",
     "shell.execute_reply": "2023-12-26T21:07:46.190373Z",
     "shell.execute_reply.started": "2023-12-26T21:07:46.184835Z"
    },
    "trusted": true
   },
   "outputs": [
    {
     "data": {
      "text/plain": [
       "Index(['CMPLNT_NUM', 'year', 'month', 'day', 'weekday', 'hour', 'Latitude',\n",
       "       'Longitude', 'COMPLETED', 'OFNS_DESC', 'ADDR_PCT_CD', 'CRIME_CLASS',\n",
       "       'BORO_NM', 'PREM_TYP_DESC', 'OCCURENCE', 'JURIS_DESC',\n",
       "       'JURISDICTION_CODE', 'IN_PARK', 'IN_PUBLIC_HOUSING', 'IN_STATION',\n",
       "       'SUSP_AGE_GROUP', 'SUSP_RACE', 'SUSP_SEX', 'VIC_AGE_GROUP', 'VIC_RACE',\n",
       "       'VIC_SEX', 'target'],\n",
       "      dtype='object')"
      ]
     },
     "execution_count": 10,
     "metadata": {},
     "output_type": "execute_result"
    }
   ],
   "source": [
    "data.columns"
   ]
  },
  {
   "cell_type": "markdown",
   "metadata": {},
   "source": [
    "Balancing the data"
   ]
  },
  {
   "cell_type": "code",
   "execution_count": 14,
   "metadata": {
    "execution": {
     "iopub.execute_input": "2023-12-26T21:07:46.196173Z",
     "iopub.status.busy": "2023-12-26T21:07:46.195873Z",
     "iopub.status.idle": "2023-12-26T21:07:54.768246Z",
     "shell.execute_reply": "2023-12-26T21:07:54.767196Z",
     "shell.execute_reply.started": "2023-12-26T21:07:46.196148Z"
    },
    "trusted": true
   },
   "outputs": [
    {
     "name": "stderr",
     "output_type": "stream",
     "text": [
      "C:\\Users\\MSI\\AppData\\Local\\Temp\\ipykernel_9436\\1352695909.py:4: DeprecationWarning: DataFrameGroupBy.apply operated on the grouping columns. This behavior is deprecated, and in a future version of pandas the grouping columns will be excluded from the operation. Either pass `include_groups=False` to exclude the groupings or explicitly select the grouping columns after groupby to silence this warning.\n",
      "  balanced_data = data.groupby('target').apply(lambda x: x.sample(min_count)).reset_index(drop=True)\n"
     ]
    }
   ],
   "source": [
    "min_count = data['target'].value_counts().min()\n",
    "\n",
    "# Sample the same number of examples for each class\n",
    "balanced_data = data.groupby('target').apply(lambda x: x.sample(min_count)).reset_index(drop=True)"
   ]
  },
  {
   "cell_type": "code",
   "execution_count": 15,
   "metadata": {
    "execution": {
     "iopub.execute_input": "2023-12-26T21:07:54.769844Z",
     "iopub.status.busy": "2023-12-26T21:07:54.769506Z",
     "iopub.status.idle": "2023-12-26T21:07:54.797053Z",
     "shell.execute_reply": "2023-12-26T21:07:54.796088Z",
     "shell.execute_reply.started": "2023-12-26T21:07:54.769817Z"
    },
    "trusted": true
   },
   "outputs": [
    {
     "data": {
      "text/plain": [
       "target\n",
       "0    563326\n",
       "1    563326\n",
       "2    563326\n",
       "3    563326\n",
       "Name: count, dtype: int64"
      ]
     },
     "execution_count": 15,
     "metadata": {},
     "output_type": "execute_result"
    }
   ],
   "source": [
    "balanced_data.target.value_counts()"
   ]
  },
  {
   "cell_type": "markdown",
   "metadata": {},
   "source": [
    "# DATA PREPARATION\n",
    "Choosing the columns that we will use in our Model"
   ]
  },
  {
   "cell_type": "code",
   "execution_count": 16,
   "metadata": {
    "execution": {
     "iopub.execute_input": "2023-12-26T21:07:54.798750Z",
     "iopub.status.busy": "2023-12-26T21:07:54.798372Z",
     "iopub.status.idle": "2023-12-26T21:07:56.261711Z",
     "shell.execute_reply": "2023-12-26T21:07:56.260664Z",
     "shell.execute_reply.started": "2023-12-26T21:07:54.798707Z"
    },
    "trusted": true
   },
   "outputs": [
    {
     "name": "stdout",
     "output_type": "stream",
     "text": [
      "<class 'pandas.core.frame.DataFrame'>\n",
      "Index: 7761268 entries, 0 to 8913191\n",
      "Data columns (total 16 columns):\n",
      " #   Column             Dtype  \n",
      "---  ------             -----  \n",
      " 0   year               int64  \n",
      " 1   month              int64  \n",
      " 2   day                int64  \n",
      " 3   hour               int64  \n",
      " 4   Latitude           float64\n",
      " 5   Longitude          float64\n",
      " 6   COMPLETED          object \n",
      " 7   ADDR_PCT_CD        float64\n",
      " 8   BORO_NM            object \n",
      " 9   IN_PARK            int64  \n",
      " 10  IN_PUBLIC_HOUSING  int64  \n",
      " 11  IN_STATION         int64  \n",
      " 12  VIC_AGE_GROUP      object \n",
      " 13  VIC_RACE           object \n",
      " 14  VIC_SEX            object \n",
      " 15  target             int32  \n",
      "dtypes: float64(3), int32(1), int64(7), object(5)\n",
      "memory usage: 977.0+ MB\n"
     ]
    },
    {
     "data": {
      "text/html": [
       "<div>\n",
       "<style scoped>\n",
       "    .dataframe tbody tr th:only-of-type {\n",
       "        vertical-align: middle;\n",
       "    }\n",
       "\n",
       "    .dataframe tbody tr th {\n",
       "        vertical-align: top;\n",
       "    }\n",
       "\n",
       "    .dataframe thead th {\n",
       "        text-align: right;\n",
       "    }\n",
       "</style>\n",
       "<table border=\"1\" class=\"dataframe\">\n",
       "  <thead>\n",
       "    <tr style=\"text-align: right;\">\n",
       "      <th></th>\n",
       "      <th>year</th>\n",
       "      <th>month</th>\n",
       "      <th>day</th>\n",
       "      <th>hour</th>\n",
       "      <th>Latitude</th>\n",
       "      <th>Longitude</th>\n",
       "      <th>COMPLETED</th>\n",
       "      <th>ADDR_PCT_CD</th>\n",
       "      <th>BORO_NM</th>\n",
       "      <th>IN_PARK</th>\n",
       "      <th>IN_PUBLIC_HOUSING</th>\n",
       "      <th>IN_STATION</th>\n",
       "      <th>VIC_AGE_GROUP</th>\n",
       "      <th>VIC_RACE</th>\n",
       "      <th>VIC_SEX</th>\n",
       "      <th>target</th>\n",
       "    </tr>\n",
       "  </thead>\n",
       "  <tbody>\n",
       "    <tr>\n",
       "      <th>0</th>\n",
       "      <td>2006</td>\n",
       "      <td>12</td>\n",
       "      <td>5</td>\n",
       "      <td>11</td>\n",
       "      <td>40.75</td>\n",
       "      <td>-74.00</td>\n",
       "      <td>COMPLETED</td>\n",
       "      <td>13.0</td>\n",
       "      <td>MANHATTAN</td>\n",
       "      <td>1</td>\n",
       "      <td>1</td>\n",
       "      <td>1</td>\n",
       "      <td>UNKNOWN</td>\n",
       "      <td>UNKNOWN</td>\n",
       "      <td>D</td>\n",
       "      <td>2</td>\n",
       "    </tr>\n",
       "    <tr>\n",
       "      <th>1</th>\n",
       "      <td>2006</td>\n",
       "      <td>7</td>\n",
       "      <td>12</td>\n",
       "      <td>14</td>\n",
       "      <td>40.70</td>\n",
       "      <td>-73.94</td>\n",
       "      <td>COMPLETED</td>\n",
       "      <td>79.0</td>\n",
       "      <td>BROOKLYN</td>\n",
       "      <td>1</td>\n",
       "      <td>1</td>\n",
       "      <td>1</td>\n",
       "      <td>45-64</td>\n",
       "      <td>BLACK</td>\n",
       "      <td>M</td>\n",
       "      <td>2</td>\n",
       "    </tr>\n",
       "    <tr>\n",
       "      <th>2</th>\n",
       "      <td>2006</td>\n",
       "      <td>11</td>\n",
       "      <td>26</td>\n",
       "      <td>16</td>\n",
       "      <td>40.70</td>\n",
       "      <td>-73.94</td>\n",
       "      <td>COMPLETED</td>\n",
       "      <td>77.0</td>\n",
       "      <td>BROOKLYN</td>\n",
       "      <td>1</td>\n",
       "      <td>1</td>\n",
       "      <td>1</td>\n",
       "      <td>18-24</td>\n",
       "      <td>BLACK</td>\n",
       "      <td>F</td>\n",
       "      <td>2</td>\n",
       "    </tr>\n",
       "    <tr>\n",
       "      <th>3</th>\n",
       "      <td>2006</td>\n",
       "      <td>11</td>\n",
       "      <td>21</td>\n",
       "      <td>2</td>\n",
       "      <td>40.84</td>\n",
       "      <td>-73.80</td>\n",
       "      <td>ATTEMPTED</td>\n",
       "      <td>45.0</td>\n",
       "      <td>BRONX</td>\n",
       "      <td>1</td>\n",
       "      <td>1</td>\n",
       "      <td>1</td>\n",
       "      <td>65+</td>\n",
       "      <td>WHITE</td>\n",
       "      <td>M</td>\n",
       "      <td>2</td>\n",
       "    </tr>\n",
       "    <tr>\n",
       "      <th>4</th>\n",
       "      <td>2007</td>\n",
       "      <td>9</td>\n",
       "      <td>1</td>\n",
       "      <td>9</td>\n",
       "      <td>40.72</td>\n",
       "      <td>-74.00</td>\n",
       "      <td>COMPLETED</td>\n",
       "      <td>1.0</td>\n",
       "      <td>MANHATTAN</td>\n",
       "      <td>1</td>\n",
       "      <td>1</td>\n",
       "      <td>1</td>\n",
       "      <td>UNKNOWN</td>\n",
       "      <td>UNKNOWN</td>\n",
       "      <td>D</td>\n",
       "      <td>2</td>\n",
       "    </tr>\n",
       "  </tbody>\n",
       "</table>\n",
       "</div>"
      ],
      "text/plain": [
       "   year  month  day  hour  Latitude  Longitude  COMPLETED  ADDR_PCT_CD  \\\n",
       "0  2006     12    5    11     40.75     -74.00  COMPLETED         13.0   \n",
       "1  2006      7   12    14     40.70     -73.94  COMPLETED         79.0   \n",
       "2  2006     11   26    16     40.70     -73.94  COMPLETED         77.0   \n",
       "3  2006     11   21     2     40.84     -73.80  ATTEMPTED         45.0   \n",
       "4  2007      9    1     9     40.72     -74.00  COMPLETED          1.0   \n",
       "\n",
       "     BORO_NM  IN_PARK  IN_PUBLIC_HOUSING  IN_STATION VIC_AGE_GROUP VIC_RACE  \\\n",
       "0  MANHATTAN        1                  1           1       UNKNOWN  UNKNOWN   \n",
       "1   BROOKLYN        1                  1           1         45-64    BLACK   \n",
       "2   BROOKLYN        1                  1           1         18-24    BLACK   \n",
       "3      BRONX        1                  1           1           65+    WHITE   \n",
       "4  MANHATTAN        1                  1           1       UNKNOWN  UNKNOWN   \n",
       "\n",
       "  VIC_SEX  target  \n",
       "0       D       2  \n",
       "1       M       2  \n",
       "2       F       2  \n",
       "3       M       2  \n",
       "4       D       2  "
      ]
     },
     "execution_count": 16,
     "metadata": {},
     "output_type": "execute_result"
    }
   ],
   "source": [
    "# Set the list of features to include in Machine Learning Model\n",
    "feature_lst=['year', 'month', 'day', 'hour', 'Latitude',\n",
    "       'Longitude', 'COMPLETED', 'ADDR_PCT_CD',\n",
    "       'BORO_NM','IN_PARK', 'IN_PUBLIC_HOUSING',\n",
    "       'IN_STATION', 'VIC_AGE_GROUP', 'VIC_RACE','VIC_SEX','target']\n",
    "\n",
    "df_sel=data[feature_lst].copy()\n",
    "df_sel.info()\n",
    "df_sel.head()"
   ]
  },
  {
   "cell_type": "code",
   "execution_count": 17,
   "metadata": {
    "execution": {
     "iopub.execute_input": "2023-12-26T21:07:56.263899Z",
     "iopub.status.busy": "2023-12-26T21:07:56.263149Z",
     "iopub.status.idle": "2023-12-26T21:07:56.919080Z",
     "shell.execute_reply": "2023-12-26T21:07:56.918165Z",
     "shell.execute_reply.started": "2023-12-26T21:07:56.263861Z"
    },
    "trusted": true
   },
   "outputs": [],
   "source": [
    "completed_mapping={'COMPLETED':1,'ATTEMPTED':0}\n",
    "# Apply the mapping to the COMPLETED column\n",
    "df_sel['COMPLETED'] = df_sel['COMPLETED'].map(completed_mapping)\n",
    "\n"
   ]
  },
  {
   "cell_type": "code",
   "execution_count": 18,
   "metadata": {
    "execution": {
     "iopub.execute_input": "2023-12-26T21:07:56.921246Z",
     "iopub.status.busy": "2023-12-26T21:07:56.920477Z",
     "iopub.status.idle": "2023-12-26T21:07:56.941282Z",
     "shell.execute_reply": "2023-12-26T21:07:56.940106Z",
     "shell.execute_reply.started": "2023-12-26T21:07:56.921208Z"
    },
    "trusted": true
   },
   "outputs": [
    {
     "data": {
      "text/html": [
       "<div>\n",
       "<style scoped>\n",
       "    .dataframe tbody tr th:only-of-type {\n",
       "        vertical-align: middle;\n",
       "    }\n",
       "\n",
       "    .dataframe tbody tr th {\n",
       "        vertical-align: top;\n",
       "    }\n",
       "\n",
       "    .dataframe thead th {\n",
       "        text-align: right;\n",
       "    }\n",
       "</style>\n",
       "<table border=\"1\" class=\"dataframe\">\n",
       "  <thead>\n",
       "    <tr style=\"text-align: right;\">\n",
       "      <th></th>\n",
       "      <th>year</th>\n",
       "      <th>month</th>\n",
       "      <th>day</th>\n",
       "      <th>hour</th>\n",
       "      <th>Latitude</th>\n",
       "      <th>Longitude</th>\n",
       "      <th>COMPLETED</th>\n",
       "      <th>ADDR_PCT_CD</th>\n",
       "      <th>BORO_NM</th>\n",
       "      <th>IN_PARK</th>\n",
       "      <th>IN_PUBLIC_HOUSING</th>\n",
       "      <th>IN_STATION</th>\n",
       "      <th>VIC_AGE_GROUP</th>\n",
       "      <th>VIC_RACE</th>\n",
       "      <th>VIC_SEX</th>\n",
       "      <th>target</th>\n",
       "    </tr>\n",
       "  </thead>\n",
       "  <tbody>\n",
       "    <tr>\n",
       "      <th>0</th>\n",
       "      <td>2006</td>\n",
       "      <td>12</td>\n",
       "      <td>5</td>\n",
       "      <td>11</td>\n",
       "      <td>40.75</td>\n",
       "      <td>-74.00</td>\n",
       "      <td>1.0</td>\n",
       "      <td>13.0</td>\n",
       "      <td>MANHATTAN</td>\n",
       "      <td>1</td>\n",
       "      <td>1</td>\n",
       "      <td>1</td>\n",
       "      <td>UNKNOWN</td>\n",
       "      <td>UNKNOWN</td>\n",
       "      <td>D</td>\n",
       "      <td>2</td>\n",
       "    </tr>\n",
       "    <tr>\n",
       "      <th>1</th>\n",
       "      <td>2006</td>\n",
       "      <td>7</td>\n",
       "      <td>12</td>\n",
       "      <td>14</td>\n",
       "      <td>40.70</td>\n",
       "      <td>-73.94</td>\n",
       "      <td>1.0</td>\n",
       "      <td>79.0</td>\n",
       "      <td>BROOKLYN</td>\n",
       "      <td>1</td>\n",
       "      <td>1</td>\n",
       "      <td>1</td>\n",
       "      <td>45-64</td>\n",
       "      <td>BLACK</td>\n",
       "      <td>M</td>\n",
       "      <td>2</td>\n",
       "    </tr>\n",
       "    <tr>\n",
       "      <th>2</th>\n",
       "      <td>2006</td>\n",
       "      <td>11</td>\n",
       "      <td>26</td>\n",
       "      <td>16</td>\n",
       "      <td>40.70</td>\n",
       "      <td>-73.94</td>\n",
       "      <td>1.0</td>\n",
       "      <td>77.0</td>\n",
       "      <td>BROOKLYN</td>\n",
       "      <td>1</td>\n",
       "      <td>1</td>\n",
       "      <td>1</td>\n",
       "      <td>18-24</td>\n",
       "      <td>BLACK</td>\n",
       "      <td>F</td>\n",
       "      <td>2</td>\n",
       "    </tr>\n",
       "    <tr>\n",
       "      <th>3</th>\n",
       "      <td>2006</td>\n",
       "      <td>11</td>\n",
       "      <td>21</td>\n",
       "      <td>2</td>\n",
       "      <td>40.84</td>\n",
       "      <td>-73.80</td>\n",
       "      <td>0.0</td>\n",
       "      <td>45.0</td>\n",
       "      <td>BRONX</td>\n",
       "      <td>1</td>\n",
       "      <td>1</td>\n",
       "      <td>1</td>\n",
       "      <td>65+</td>\n",
       "      <td>WHITE</td>\n",
       "      <td>M</td>\n",
       "      <td>2</td>\n",
       "    </tr>\n",
       "    <tr>\n",
       "      <th>4</th>\n",
       "      <td>2007</td>\n",
       "      <td>9</td>\n",
       "      <td>1</td>\n",
       "      <td>9</td>\n",
       "      <td>40.72</td>\n",
       "      <td>-74.00</td>\n",
       "      <td>1.0</td>\n",
       "      <td>1.0</td>\n",
       "      <td>MANHATTAN</td>\n",
       "      <td>1</td>\n",
       "      <td>1</td>\n",
       "      <td>1</td>\n",
       "      <td>UNKNOWN</td>\n",
       "      <td>UNKNOWN</td>\n",
       "      <td>D</td>\n",
       "      <td>2</td>\n",
       "    </tr>\n",
       "  </tbody>\n",
       "</table>\n",
       "</div>"
      ],
      "text/plain": [
       "   year  month  day  hour  Latitude  Longitude  COMPLETED  ADDR_PCT_CD  \\\n",
       "0  2006     12    5    11     40.75     -74.00        1.0         13.0   \n",
       "1  2006      7   12    14     40.70     -73.94        1.0         79.0   \n",
       "2  2006     11   26    16     40.70     -73.94        1.0         77.0   \n",
       "3  2006     11   21     2     40.84     -73.80        0.0         45.0   \n",
       "4  2007      9    1     9     40.72     -74.00        1.0          1.0   \n",
       "\n",
       "     BORO_NM  IN_PARK  IN_PUBLIC_HOUSING  IN_STATION VIC_AGE_GROUP VIC_RACE  \\\n",
       "0  MANHATTAN        1                  1           1       UNKNOWN  UNKNOWN   \n",
       "1   BROOKLYN        1                  1           1         45-64    BLACK   \n",
       "2   BROOKLYN        1                  1           1         18-24    BLACK   \n",
       "3      BRONX        1                  1           1           65+    WHITE   \n",
       "4  MANHATTAN        1                  1           1       UNKNOWN  UNKNOWN   \n",
       "\n",
       "  VIC_SEX  target  \n",
       "0       D       2  \n",
       "1       M       2  \n",
       "2       F       2  \n",
       "3       M       2  \n",
       "4       D       2  "
      ]
     },
     "execution_count": 18,
     "metadata": {},
     "output_type": "execute_result"
    }
   ],
   "source": [
    "df_sel.head()"
   ]
  },
  {
   "cell_type": "code",
   "execution_count": 19,
   "metadata": {
    "execution": {
     "iopub.execute_input": "2023-12-26T21:07:56.943346Z",
     "iopub.status.busy": "2023-12-26T21:07:56.942974Z",
     "iopub.status.idle": "2023-12-26T21:07:57.013467Z",
     "shell.execute_reply": "2023-12-26T21:07:57.012374Z",
     "shell.execute_reply.started": "2023-12-26T21:07:56.943307Z"
    },
    "trusted": true
   },
   "outputs": [
    {
     "name": "stdout",
     "output_type": "stream",
     "text": [
      "(7761268, 16)\n"
     ]
    },
    {
     "data": {
      "text/plain": [
       "target\n",
       "2    4361109\n",
       "1    1509401\n",
       "3    1327432\n",
       "0     563326\n",
       "Name: count, dtype: int64"
      ]
     },
     "execution_count": 19,
     "metadata": {},
     "output_type": "execute_result"
    }
   ],
   "source": [
    "print(df_sel.shape)\n",
    "df_sel.target.value_counts().sort_values(ascending=False)\n"
   ]
  },
  {
   "cell_type": "code",
   "execution_count": 20,
   "metadata": {
    "execution": {
     "iopub.execute_input": "2023-12-26T21:07:57.014873Z",
     "iopub.status.busy": "2023-12-26T21:07:57.014549Z",
     "iopub.status.idle": "2023-12-26T21:08:00.984054Z",
     "shell.execute_reply": "2023-12-26T21:08:00.983107Z",
     "shell.execute_reply.started": "2023-12-26T21:07:57.014848Z"
    },
    "trusted": true
   },
   "outputs": [
    {
     "data": {
      "image/png": "[encoded data removed]",
      "text/plain": [
       "<Figure size 600x400 with 2 Axes>"
      ]
     },
     "metadata": {},
     "output_type": "display_data"
    }
   ],
   "source": [
    "non_object_columns = df_sel.select_dtypes(exclude='object')\n",
    "\n",
    "# Calculate correlation matrix\n",
    "corr = non_object_columns.corr()\n",
    "\n",
    "# Create a heatmap\n",
    "plt.figure(figsize=(6, 4))\n",
    "sns.heatmap(corr, cmap=\"coolwarm\", linewidth=2, linecolor=\"white\",annot=False)\n",
    "plt.title(\"Correlation Matrix for Non-Object Columns\")\n",
    "plt.show()"
   ]
  },
  {
   "cell_type": "code",
   "execution_count": 22,
   "metadata": {},
   "outputs": [
    {
     "data": {
      "image/png": "[encoded data removed]",
      "text/plain": [
       "<Figure size 600x400 with 2 Axes>"
      ]
     },
     "metadata": {},
     "output_type": "display_data"
    }
   ],
   "source": [
    "columns_to_exclude = ['IN_PARK', 'IN_PUBLIC_HOUSING', 'IN_STATION']\n",
    "non_object_columns = df_sel.select_dtypes(exclude='object')\n",
    "non_object_columns = non_object_columns.drop(columns=columns_to_exclude)\n",
    "\n",
    "corr = non_object_columns.corr()\n",
    "\n",
    "plt.figure(figsize=(6, 4))\n",
    "sns.heatmap(corr, cmap=\"coolwarm\", linewidth=2, linecolor=\"white\", annot=False)\n",
    "plt.title(\"Correlation Matrix for Non-Object Columns\")\n",
    "plt.show()"
   ]
  },
  {
   "cell_type": "code",
   "execution_count": 21,
   "metadata": {},
   "outputs": [
    {
     "data": {
      "text/plain": [
       "IN_PARK              1\n",
       "IN_PUBLIC_HOUSING    1\n",
       "IN_STATION           1\n",
       "dtype: int64"
      ]
     },
     "execution_count": 21,
     "metadata": {},
     "output_type": "execute_result"
    }
   ],
   "source": [
    "df_sel[['IN_PARK', 'IN_PUBLIC_HOUSING', 'IN_STATION']].nunique()"
   ]
  },
  {
   "cell_type": "markdown",
   "metadata": {},
   "source": [
    "**Deal with categorical data**"
   ]
  },
  {
   "cell_type": "code",
   "execution_count": 23,
   "metadata": {
    "execution": {
     "iopub.execute_input": "2023-12-26T21:08:00.986104Z",
     "iopub.status.busy": "2023-12-26T21:08:00.985786Z",
     "iopub.status.idle": "2023-12-26T21:08:05.589656Z",
     "shell.execute_reply": "2023-12-26T21:08:05.588641Z",
     "shell.execute_reply.started": "2023-12-26T21:08:00.986077Z"
    },
    "trusted": true
   },
   "outputs": [
    {
     "name": "stdout",
     "output_type": "stream",
     "text": [
      "<class 'pandas.core.frame.DataFrame'>\n",
      "Index: 7761268 entries, 0 to 8913191\n",
      "Data columns (total 39 columns):\n",
      " #   Column                                   Dtype  \n",
      "---  ------                                   -----  \n",
      " 0   year                                     int64  \n",
      " 1   month                                    int64  \n",
      " 2   day                                      int64  \n",
      " 3   hour                                     int64  \n",
      " 4   Latitude                                 float64\n",
      " 5   Longitude                                float64\n",
      " 6   COMPLETED                                float64\n",
      " 7   ADDR_PCT_CD                              float64\n",
      " 8   IN_PARK                                  int64  \n",
      " 9   IN_PUBLIC_HOUSING                        int64  \n",
      " 10  IN_STATION                               int64  \n",
      " 11  target                                   int32  \n",
      " 12  BORO_NM_(null)                           bool   \n",
      " 13  BORO_NM_BRONX                            bool   \n",
      " 14  BORO_NM_BROOKLYN                         bool   \n",
      " 15  BORO_NM_MANHATTAN                        bool   \n",
      " 16  BORO_NM_QUEENS                           bool   \n",
      " 17  BORO_NM_STATEN ISLAND                    bool   \n",
      " 18  VIC_AGE_GROUP_18-24                      bool   \n",
      " 19  VIC_AGE_GROUP_25-44                      bool   \n",
      " 20  VIC_AGE_GROUP_45-64                      bool   \n",
      " 21  VIC_AGE_GROUP_65+                        bool   \n",
      " 22  VIC_AGE_GROUP_<18                        bool   \n",
      " 23  VIC_AGE_GROUP_UNKNOWN                    bool   \n",
      " 24  VIC_RACE_(null)                          bool   \n",
      " 25  VIC_RACE_AMERICAN INDIAN/ALASKAN NATIVE  bool   \n",
      " 26  VIC_RACE_ASIAN / PACIFIC ISLANDER        bool   \n",
      " 27  VIC_RACE_BLACK                           bool   \n",
      " 28  VIC_RACE_BLACK HISPANIC                  bool   \n",
      " 29  VIC_RACE_OTHER                           bool   \n",
      " 30  VIC_RACE_UNKNOWN                         bool   \n",
      " 31  VIC_RACE_WHITE                           bool   \n",
      " 32  VIC_RACE_WHITE HISPANIC                  bool   \n",
      " 33  VIC_SEX_(null)                           bool   \n",
      " 34  VIC_SEX_D                                bool   \n",
      " 35  VIC_SEX_E                                bool   \n",
      " 36  VIC_SEX_F                                bool   \n",
      " 37  VIC_SEX_L                                bool   \n",
      " 38  VIC_SEX_M                                bool   \n",
      "dtypes: bool(27), float64(4), int32(1), int64(7)\n",
      "memory usage: 940.0 MB\n"
     ]
    }
   ],
   "source": [
    "df = pd.get_dummies(df_sel)\n",
    "\n",
    "df.info()"
   ]
  },
  {
   "cell_type": "markdown",
   "metadata": {},
   "source": [
    "change the bool columns to uint8 "
   ]
  },
  {
   "cell_type": "code",
   "execution_count": 24,
   "metadata": {
    "execution": {
     "iopub.execute_input": "2023-12-26T21:08:05.591281Z",
     "iopub.status.busy": "2023-12-26T21:08:05.590941Z",
     "iopub.status.idle": "2023-12-26T21:08:05.984569Z",
     "shell.execute_reply": "2023-12-26T21:08:05.983734Z",
     "shell.execute_reply.started": "2023-12-26T21:08:05.591253Z"
    },
    "trusted": true
   },
   "outputs": [],
   "source": [
    "bool_columns = df.select_dtypes(include='bool').columns\n",
    "\n",
    "# Convert boolean columns to uint8\n",
    "df[bool_columns] = df[bool_columns].astype('uint8')"
   ]
  },
  {
   "cell_type": "code",
   "execution_count": 25,
   "metadata": {
    "execution": {
     "iopub.execute_input": "2023-12-26T21:08:05.986088Z",
     "iopub.status.busy": "2023-12-26T21:08:05.985772Z",
     "iopub.status.idle": "2023-12-26T21:08:05.998781Z",
     "shell.execute_reply": "2023-12-26T21:08:05.997623Z",
     "shell.execute_reply.started": "2023-12-26T21:08:05.986061Z"
    },
    "trusted": true
   },
   "outputs": [
    {
     "name": "stdout",
     "output_type": "stream",
     "text": [
      "<class 'pandas.core.frame.DataFrame'>\n",
      "Index: 7761268 entries, 0 to 8913191\n",
      "Data columns (total 39 columns):\n",
      " #   Column                                   Dtype  \n",
      "---  ------                                   -----  \n",
      " 0   year                                     int64  \n",
      " 1   month                                    int64  \n",
      " 2   day                                      int64  \n",
      " 3   hour                                     int64  \n",
      " 4   Latitude                                 float64\n",
      " 5   Longitude                                float64\n",
      " 6   COMPLETED                                float64\n",
      " 7   ADDR_PCT_CD                              float64\n",
      " 8   IN_PARK                                  int64  \n",
      " 9   IN_PUBLIC_HOUSING                        int64  \n",
      " 10  IN_STATION                               int64  \n",
      " 11  target                                   int32  \n",
      " 12  BORO_NM_(null)                           uint8  \n",
      " 13  BORO_NM_BRONX                            uint8  \n",
      " 14  BORO_NM_BROOKLYN                         uint8  \n",
      " 15  BORO_NM_MANHATTAN                        uint8  \n",
      " 16  BORO_NM_QUEENS                           uint8  \n",
      " 17  BORO_NM_STATEN ISLAND                    uint8  \n",
      " 18  VIC_AGE_GROUP_18-24                      uint8  \n",
      " 19  VIC_AGE_GROUP_25-44                      uint8  \n",
      " 20  VIC_AGE_GROUP_45-64                      uint8  \n",
      " 21  VIC_AGE_GROUP_65+                        uint8  \n",
      " 22  VIC_AGE_GROUP_<18                        uint8  \n",
      " 23  VIC_AGE_GROUP_UNKNOWN                    uint8  \n",
      " 24  VIC_RACE_(null)                          uint8  \n",
      " 25  VIC_RACE_AMERICAN INDIAN/ALASKAN NATIVE  uint8  \n",
      " 26  VIC_RACE_ASIAN / PACIFIC ISLANDER        uint8  \n",
      " 27  VIC_RACE_BLACK                           uint8  \n",
      " 28  VIC_RACE_BLACK HISPANIC                  uint8  \n",
      " 29  VIC_RACE_OTHER                           uint8  \n",
      " 30  VIC_RACE_UNKNOWN                         uint8  \n",
      " 31  VIC_RACE_WHITE                           uint8  \n",
      " 32  VIC_RACE_WHITE HISPANIC                  uint8  \n",
      " 33  VIC_SEX_(null)                           uint8  \n",
      " 34  VIC_SEX_D                                uint8  \n",
      " 35  VIC_SEX_E                                uint8  \n",
      " 36  VIC_SEX_F                                uint8  \n",
      " 37  VIC_SEX_L                                uint8  \n",
      " 38  VIC_SEX_M                                uint8  \n",
      "dtypes: float64(4), int32(1), int64(7), uint8(27)\n",
      "memory usage: 940.0 MB\n"
     ]
    }
   ],
   "source": [
    "df.info()"
   ]
  },
  {
   "cell_type": "code",
   "execution_count": 27,
   "metadata": {},
   "outputs": [
    {
     "data": {
      "image/png": "[encoded data removed]",
      "text/plain": [
       "<Figure size 1200x1000 with 2 Axes>"
      ]
     },
     "metadata": {},
     "output_type": "display_data"
    }
   ],
   "source": [
    "# Sélectionner les colonnes numériques\n",
    "numeric_columns = df.select_dtypes(include=['int64', 'float64', 'int32']).columns\n",
    "\n",
    "# Créer une liste des colonnes à exclure\n",
    "columns_to_exclude = ['IN_PARK', 'IN_PUBLIC_HOUSING', 'IN_STATION']\n",
    "\n",
    "# Sélectionner toutes les colonnes numériques sauf celles à exclure\n",
    "df_numeric = df[numeric_columns].drop(columns=columns_to_exclude)\n",
    "\n",
    "# Calculer et afficher la matrice de corrélation\n",
    "plt.figure(figsize=(12, 10))\n",
    "corr = df_numeric.corr()\n",
    "sns.heatmap(corr, \n",
    "            cmap=\"coolwarm\",\n",
    "            center=0,\n",
    "            annot=True,\n",
    "            fmt='.2f',\n",
    "            linewidths=1,\n",
    "            square=True)\n",
    "\n",
    "plt.title(\"Matrice de Corrélation des Variables Numériques\")\n",
    "plt.tight_layout()\n",
    "plt.show()"
   ]
  }
 ],
 "metadata": {
  "kaggle": {
   "accelerator": "nvidiaTeslaT4",
   "dataSources": [
    {
     "datasetId": 4213809,
     "sourceId": 7269167,
     "sourceType": "datasetVersion"
    }
   ],
   "dockerImageVersionId": 30626,
   "isGpuEnabled": true,
   "isInternetEnabled": true,
   "language": "python",
   "sourceType": "notebook"
  },
  "kernelspec": {
   "display_name": "Python (nyc_venv)",
   "language": "python",
   "name": "mon_env"
  },
  "language_info": {
   "codemirror_mode": {
    "name": "ipython",
    "version": 3
   },
   "file_extension": ".py",
   "mimetype": "text/x-python",
   "name": "python",
   "nbconvert_exporter": "python",
   "pygments_lexer": "ipython3",
   "version": "3.12.0"
  }
 },
 "nbformat": 4,
 "nbformat_minor": 4
}
