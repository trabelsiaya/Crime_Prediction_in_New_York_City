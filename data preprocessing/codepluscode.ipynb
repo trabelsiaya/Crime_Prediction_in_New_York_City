{
 "cells": [
  {
   "cell_type": "code",
   "execution_count": 2,
   "metadata": {},
   "outputs": [
    {
     "name": "stdout",
     "output_type": "stream",
     "text": [
      "Colonne 'code_plus' ajoutée avec succès. Fichier enregistré sous : dataset_avec_code_plus.csv\n"
     ]
    }
   ],
   "source": [
    "import pandas as pd\n",
    "from openlocationcode import openlocationcode as olc\n",
    "\n",
    "# Charger les données\n",
    "file_path = 'final_data.csv'  # Remplacez par le chemin de votre fichier\n",
    "data = pd.read_csv(file_path)\n",
    "\n",
    "# Vérifiez les colonnes nécessaires\n",
    "if 'Latitude' not in data.columns or 'Longitude' not in data.columns:\n",
    "    raise ValueError(\"Le fichier doit contenir les colonnes 'latitude' et 'longitude'.\")\n",
    "\n",
    "# Définir le niveau de précision du Plus Code (environ 14 mètres)\n",
    "code_precision = 10  # Plus Code de niveau 10 correspond à environ 14x14 mètres\n",
    "\n",
    "# Ajouter la colonne code_plus\n",
    "def generate_plus_code(lat, lon):\n",
    "    if pd.isna(lat) or pd.isna(lon):\n",
    "        return None\n",
    "    return olc.encode(lat, lon, code_precision)\n",
    "\n",
    "data['code_plus'] = data.apply(lambda row: generate_plus_code(row['Latitude'], row['Longitude']), axis=1)\n",
    "\n",
    "# Enregistrer les données avec la nouvelle colonne\n",
    "output_path = 'dataset_avec_code_plus.csv'\n",
    "data.to_csv(output_path, index=False)\n",
    "\n",
    "print(f\"Colonne 'code_plus' ajoutée avec succès. Fichier enregistré sous : {output_path}\")"
   ]
  },
  {
   "cell_type": "code",
   "execution_count": null,
   "metadata": {},
   "outputs": [],
   "source": []
  }
 ],
 "metadata": {
  "kernelspec": {
   "display_name": "myvenv",
   "language": "python",
   "name": "python3"
  },
  "language_info": {
   "codemirror_mode": {
    "name": "ipython",
    "version": 3
   },
   "file_extension": ".py",
   "mimetype": "text/x-python",
   "name": "python",
   "nbconvert_exporter": "python",
   "pygments_lexer": "ipython3",
   "version": "3.12.2"
  }
 },
 "nbformat": 4,
 "nbformat_minor": 2
}
